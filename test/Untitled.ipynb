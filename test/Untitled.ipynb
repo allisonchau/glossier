{
 "cells": [
  {
   "cell_type": "markdown",
   "metadata": {},
   "source": [
    "Four phases:\n",
    "1. Read in the zipped json files from the s3 bucket\n",
    "2. Establish the PSQL connection\n",
    "3. Transform the data\n",
    "4. Load the data"
   ]
  },
  {
   "cell_type": "code",
   "execution_count": 3,
   "metadata": {},
   "outputs": [
    {
     "name": "stderr",
     "output_type": "stream",
     "text": [
      "/anaconda3/lib/python3.6/site-packages/psycopg2/__init__.py:144: UserWarning: The psycopg2 wheel package will be renamed from release 2.8; in order to keep installing from binary please use \"pip install psycopg2-binary\" instead. For details see: <http://initd.org/psycopg/docs/install.html#binary-install-from-pypi>.\n",
      "  \"\"\")\n"
     ]
    }
   ],
   "source": [
    "import requests\n",
    "from io import BytesIO\n",
    "from zipfile import ZipFile\n",
    "import sys\n",
    "\n",
    "import psycopg2\n",
    "from sqlalchemy import create_engine\n",
    "from sqlalchemy import String, Boolean, BIGINT, DateTime, Float\n",
    "import creds\n",
    "\n",
    "\n",
    "import pandas as pd\n",
    "import json\n",
    "import datetime\n",
    "from collections import Counter\n",
    "\n",
    "# import os"
   ]
  },
  {
   "cell_type": "markdown",
   "metadata": {},
   "source": [
    "Read in the zipped json files from the s3 bucket"
   ]
  },
  {
   "cell_type": "code",
   "execution_count": 4,
   "metadata": {},
   "outputs": [],
   "source": [
    "def download_extract_zip(url):\n",
    "    r=requests.get(url)\n",
    "    if (r.status_code=='200'):\n",
    "        print('Loading data...')\n",
    "    with ZipFile(BytesIO(r.content)) as thezip:\n",
    "        for zipinfo in thezip.infolist():\n",
    "            with thezip.open(zipinfo) as thefile:\n",
    "                yield zipinfo.filename, thefile\n",
    "\n",
    "def main(args):\n",
    "    print(args)\n",
    "    url=args[0]\n",
    "    datafiles=download_extract_zip(url)\n",
    "    \n",
    "    # Connecting to PostgreSQL by providing a sqlachemy engine\n",
    "    engine = create_engine('postgresql://'+creds.username+':'\n",
    "                           +creds.password+'@'+creds.host+':'\n",
    "                           +creds.port+'/'+creds.db,echo=False)\n",
    "\n",
    "if __name__ == \"__main__\":\n",
    "    main(sys.argv)"
   ]
  },
  {
   "cell_type": "code",
   "execution_count": null,
   "metadata": {},
   "outputs": [],
   "source": [
    "  \n",
    "def convert_timestring_utc(x):\n",
    "    if x is None:\n",
    "        return x\n",
    "    x=x[:-6]+''.join(x[-6:].split(':'))\n",
    "    return datetime.datetime.strptime(x,'%Y-%m-%dT%H:%M:%S%z').astimezone(tz=datetime.timezone.utc)\n",
    "\n",
    "def convert_datetime_to_str(x):\n",
    "    if x is None:\n",
    "        return x\n",
    "    else:\n",
    "        return x.strftime('%Y-%m-%d %H:%M:%S%z')\n",
    "\n",
    "exclude_list=['closed_at','created_at','updated_at',\n",
    "              'processed_at','cancelled_at','line_items',\n",
    "             'id']\n",
    "include_list=['email','number','total_price','confirmed']\n",
    "user_include_list=['customer_locale','buyer_accepts_marketing','contact_email','phone']"
   ]
  },
  {
   "cell_type": "code",
   "execution_count": null,
   "metadata": {},
   "outputs": [],
   "source": [
    "order_dict={}\n",
    "line_item_dict={}\n",
    "user_dict={}\n",
    "for (fn,fobj) in datafiles:\n",
    "    print(fn)\n",
    "    data=json.load(fobj)\n",
    "    orders=data['orders']\n",
    "    for order in orders:\n",
    "        order_id=order['id']\n",
    "        line_item_list=order['line_items']\n",
    "        line_item_total=len(line_item_list)\n",
    "        item_total=sum([x['quantity'] for x in line_item_list])\n",
    "        order_dict[order_id]={k:v for k,v in order.items() \n",
    "                              if( k not in set(exclude_list) \n",
    "                                 and k not in set(user_include_list))}\n",
    "        order_dict[order_id]['line_item_total']=line_item_total\n",
    "        for line_item in line_item_list:\n",
    "            line_item_id=line_item['id']\n",
    "            line_item_dict[line_item_id]={k:v for k,v in line_item.items() if k!='id'}\n",
    "            line_item_dict[line_item_id]['order_id']=order_id\n",
    "    break"
   ]
  },
  {
   "cell_type": "code",
   "execution_count": null,
   "metadata": {},
   "outputs": [],
   "source": [
    "order_df=pd.DataFrame.from_dict(order_dict,orient='index')\n",
    "order_df.head()"
   ]
  },
  {
   "cell_type": "code",
   "execution_count": null,
   "metadata": {},
   "outputs": [],
   "source": [
    "\n",
    "\n",
    "order_type_dict={\n",
    "    'email':String,\n",
    "    'number':BIGINT,\n",
    "    'total_price':Float,\n",
    "    'total_tax':Float,\n",
    "    'subtotal_price':Float,\n",
    "    'total_discount':Float,\n",
    "    'total_line_items_price':Float,\n",
    "    'confirmed':Boolean,\n",
    "    'checkout_id':BIGINT,\n",
    "    'line_item_total':BIGINT,\n",
    "    'processed_at':DateTime(timezone=True),\n",
    "    'cancelled_at':DateTime(timezone=True),\n",
    "    'created_at':DateTime(timezone=True),\n",
    "    'updated_at':DateTime(timezone=True),\n",
    "    'closed_at':DateTime(timezone=True)   \n",
    "}\n",
    "\n",
    "# order_df.to_sql(name='order_test2', con=engine, if_exists = 'append', index=True,dtype=order_type_dict)"
   ]
  },
  {
   "cell_type": "code",
   "execution_count": null,
   "metadata": {},
   "outputs": [],
   "source": [
    "main:\n",
    "    load the file from s3 link\n",
    "    connect to psql\n",
    "    "
   ]
  },
  {
   "cell_type": "code",
   "execution_count": null,
   "metadata": {},
   "outputs": [],
   "source": []
  },
  {
   "cell_type": "code",
   "execution_count": null,
   "metadata": {},
   "outputs": [],
   "source": []
  }
 ],
 "metadata": {
  "kernelspec": {
   "display_name": "Python 3",
   "language": "python",
   "name": "python3"
  },
  "language_info": {
   "codemirror_mode": {
    "name": "ipython",
    "version": 3
   },
   "file_extension": ".py",
   "mimetype": "text/x-python",
   "name": "python",
   "nbconvert_exporter": "python",
   "pygments_lexer": "ipython3",
   "version": "3.6.4"
  }
 },
 "nbformat": 4,
 "nbformat_minor": 2
}

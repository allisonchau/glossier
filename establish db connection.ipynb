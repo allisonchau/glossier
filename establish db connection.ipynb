{
 "cells": [
  {
   "cell_type": "code",
   "execution_count": 12,
   "metadata": {},
   "outputs": [],
   "source": [
    "import psycopg2\n",
    "from sqlalchemy import create_engine\n",
    "import os\n",
    "import creds\n",
    "import pandas as pd"
   ]
  },
  {
   "cell_type": "code",
   "execution_count": null,
   "metadata": {},
   "outputs": [],
   "source": []
  },
  {
   "cell_type": "code",
   "execution_count": 10,
   "metadata": {},
   "outputs": [],
   "source": [
    "# Connecting to PostgreSQL by providing a sqlachemy engine\n",
    "engine = create_engine('postgresql://'+creds.username+':'+creds.password+'@'+creds.host+':'+creds.port+'/'+creds.db,echo=False)"
   ]
  },
  {
   "cell_type": "code",
   "execution_count": 13,
   "metadata": {},
   "outputs": [],
   "source": [
    "# ====== Writing table ====== #\n",
    "# Creating a simple pandas DataFrame with two columns\n",
    "liste_hello = ['hello1','hello2']\n",
    "liste_world = ['world1','world2']\n",
    "df = pd.DataFrame(data = {'hello' : liste_hello, 'world': liste_world})\n",
    " \n",
    "# Writing Dataframe to PostgreSQL and replacing table if it already exists\n",
    "df.to_sql(name='helloworld', con=engine, if_exists = 'replace', index=False)"
   ]
  },
  {
   "cell_type": "code",
   "execution_count": 14,
   "metadata": {},
   "outputs": [],
   "source": [
    "df.to_sql(name='helloworld', con=engine, if_exists = 'append', index=False)"
   ]
  },
  {
   "cell_type": "code",
   "execution_count": 43,
   "metadata": {},
   "outputs": [],
   "source": [
    "username = 'allison'\n",
    "password = 'iheartmilkyjelly'\n",
    "conn = psycopg2.connect(\"dbname='allison_db' port='80' user='%s' \\\n",
    "                host='data-engineering-test.dev.glossier.io' \\\n",
    "                password='%s'\" % (username, password)\\\n",
    "            )\n",
    "\n",
    "cursor=conn.cursor()\n",
    "cursor.execute('drop table hello;');\n",
    "cursor.execute('create table hello(processed_at timestamp with time zone);')"
   ]
  },
  {
   "cell_type": "code",
   "execution_count": 54,
   "metadata": {},
   "outputs": [],
   "source": [
    "import datetime\n",
    "\n",
    "datum=datetime.datetime.now().astimezone(tz=datetime.timezone.utc)"
   ]
  },
  {
   "cell_type": "code",
   "execution_count": 56,
   "metadata": {},
   "outputs": [],
   "source": [
    "# cursor.execute('insert into hello values (\"%s\");'%datum)\n",
    "\n",
    "# datum='2005-10-19 10:23:54+0200'\n",
    "cursor.execute(\"insert into hello values ('%s');\"%datum.strftime('%Y-%m-%d %H:%M:%S%z'))"
   ]
  },
  {
   "cell_type": "code",
   "execution_count": 57,
   "metadata": {},
   "outputs": [],
   "source": [
    "conn.commit()"
   ]
  },
  {
   "cell_type": "code",
   "execution_count": 42,
   "metadata": {},
   "outputs": [
    {
     "data": {
      "text/plain": [
       "datetime.datetime(1999, 1, 8, 12, 5, 6, tzinfo=datetime.timezone.utc)"
      ]
     },
     "execution_count": 42,
     "metadata": {},
     "output_type": "execute_result"
    }
   ],
   "source": [
    "datetime.datetime.strptime(datum,'%Y-%m-%d %H:%M:%S %z').astimezone(tz=datetime.timezone.utc)"
   ]
  },
  {
   "cell_type": "code",
   "execution_count": 55,
   "metadata": {},
   "outputs": [
    {
     "data": {
      "text/plain": [
       "'2019-09-16 16:00:46+0000'"
      ]
     },
     "execution_count": 55,
     "metadata": {},
     "output_type": "execute_result"
    }
   ],
   "source": [
    "datum.strftime('%Y-%m-%d %H:%M:%S%z')"
   ]
  },
  {
   "cell_type": "code",
   "execution_count": 17,
   "metadata": {},
   "outputs": [],
   "source": [
    "x={3:4,4:5}"
   ]
  },
  {
   "cell_type": "code",
   "execution_count": 18,
   "metadata": {},
   "outputs": [
    {
     "data": {
      "text/plain": [
       "2"
      ]
     },
     "execution_count": 18,
     "metadata": {},
     "output_type": "execute_result"
    }
   ],
   "source": [
    "len(x)"
   ]
  },
  {
   "cell_type": "code",
   "execution_count": null,
   "metadata": {},
   "outputs": [],
   "source": []
  }
 ],
 "metadata": {
  "kernelspec": {
   "display_name": "Python 3",
   "language": "python",
   "name": "python3"
  },
  "language_info": {
   "codemirror_mode": {
    "name": "ipython",
    "version": 3
   },
   "file_extension": ".py",
   "mimetype": "text/x-python",
   "name": "python",
   "nbconvert_exporter": "python",
   "pygments_lexer": "ipython3",
   "version": "3.6.4"
  }
 },
 "nbformat": 4,
 "nbformat_minor": 2
}

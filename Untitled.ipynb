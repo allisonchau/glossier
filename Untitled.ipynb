{
 "cells": [
  {
   "cell_type": "markdown",
   "metadata": {},
   "source": [
    "Four phases:\n",
    "1. Read in the zipped json files from the s3 bucket\n",
    "2. Establish the PSQL connection\n",
    "3. Transform the data\n",
    "4. Load the data"
   ]
  },
  {
   "cell_type": "code",
   "execution_count": 1,
   "metadata": {},
   "outputs": [
    {
     "name": "stderr",
     "output_type": "stream",
     "text": [
      "/anaconda3/lib/python3.6/site-packages/psycopg2/__init__.py:144: UserWarning: The psycopg2 wheel package will be renamed from release 2.8; in order to keep installing from binary please use \"pip install psycopg2-binary\" instead. For details see: <http://initd.org/psycopg/docs/install.html#binary-install-from-pypi>.\n",
      "  \"\"\")\n"
     ]
    }
   ],
   "source": [
    "import requests\n",
    "from io import BytesIO\n",
    "from zipfile import ZipFile\n",
    "\n",
    "import psycopg2\n",
    "from sqlalchemy import create_engine\n",
    "import creds\n",
    "\n",
    "\n",
    "import pandas as pd\n",
    "import json\n",
    "import datetime\n",
    "from collections import Counter\n",
    "\n",
    "# import os"
   ]
  },
  {
   "cell_type": "markdown",
   "metadata": {},
   "source": [
    "Read in the zipped json files from the s3 bucket"
   ]
  },
  {
   "cell_type": "code",
   "execution_count": 2,
   "metadata": {},
   "outputs": [],
   "source": [
    "def download_extract_zip(url):\n",
    "    r=requests.get(url)\n",
    "    with ZipFile(BytesIO(r.content)) as thezip:\n",
    "        for zipinfo in thezip.infolist():\n",
    "            with thezip.open(zipinfo) as thefile:\n",
    "                yield zipinfo.filename, thefile\n",
    "                \n",
    "datafiles=download_extract_zip('https://s3.amazonaws.com/data-eng-homework/v1/data.zip')"
   ]
  },
  {
   "cell_type": "code",
   "execution_count": 3,
   "metadata": {},
   "outputs": [],
   "source": [
    "# Connecting to PostgreSQL by providing a sqlachemy engine\n",
    "engine = create_engine('postgresql://'+creds.username+':'+creds.password+'@'+creds.host+':'+creds.port+'/'+creds.db,echo=False)"
   ]
  },
  {
   "cell_type": "code",
   "execution_count": 4,
   "metadata": {},
   "outputs": [],
   "source": [
    "  \n",
    "def convert_timestring_utc(x):\n",
    "    if x is None:\n",
    "        return x\n",
    "    x=x[:-6]+''.join(x[-6:].split(':'))\n",
    "    return datetime.datetime.strptime(x,'%Y-%m-%dT%H:%M:%S%z').astimezone(tz=datetime.timezone.utc)\n",
    "def convert_datetime_to_str(x):\n",
    "    if x is None:\n",
    "        return x\n",
    "    else:\n",
    "        return x.strftime('%Y-%m-%d %H:%M:%S%z')\n",
    "\n",
    "exclude_list=['closed_at','created_at','updated_at',\n",
    "              'processed_at','cancelled_at','line_items',\n",
    "             'id']\n",
    "include_list=['email','number','total_price','confirmed']"
   ]
  },
  {
   "cell_type": "code",
   "execution_count": 15,
   "metadata": {},
   "outputs": [
    {
     "name": "stdout",
     "output_type": "stream",
     "text": [
      "2017-12-29.json\n"
     ]
    }
   ],
   "source": [
    "order_dict={}\n",
    "# line_item_dict={}\n",
    "# user_dict={}\n",
    "for (fn,fobj) in datafiles:\n",
    "    print(fn)\n",
    "    data=json.load(fobj)\n",
    "    orders=data['orders']\n",
    "    for order in orders:\n",
    "        order_id=order['id']\n",
    "        line_item_list=order['line_items']\n",
    "        line_item_total=len(line_item_list)\n",
    "        item_total=sum([x['quantity'] for x in line_item_list])\n",
    "        processed_at=convert_timestring_utc(order['processed_at'])\n",
    "        cancelled_at=convert_timestring_utc(order['cancelled_at'])\n",
    "        if order_id in order_dict:\n",
    "            print('Error: Duplicative order_id: '+order_id)\n",
    "            continue\n",
    "        else:\n",
    "            order_dict[order_id]={k:v for k,v in order.items() if k in set(include_list)}\n",
    "            order_dict[order_id]['line_item_total']=line_item_total\n",
    "#             order_dict[order_id]['processed_at']=convert_datetime_to_str(processed_at)\n",
    "            order_dict[order_id]['processed_at']=processed_at\n",
    "#             order_dict[order_id]['cancelled_at']=convert_datetime_to_str(cancelled_at)\n",
    "    break\n",
    "\n",
    " "
   ]
  },
  {
   "cell_type": "code",
   "execution_count": 16,
   "metadata": {},
   "outputs": [],
   "source": [
    "order_df=pd.DataFrame.from_dict(order_dict,orient='index')"
   ]
  },
  {
   "cell_type": "code",
   "execution_count": 17,
   "metadata": {},
   "outputs": [],
   "source": [
    "\n",
    "from sqlalchemy import String, Boolean, BIGINT, DateTime\n",
    "\n",
    "order_type_dict={\n",
    "#     'email':'text',\n",
    "#     'number':'bigint',\n",
    "#     'total_price':'double precision',\n",
    "#     'confirmed':'boolean',\n",
    "#     'line_item_total':'bigint',\n",
    "    'processed_at':DateTime(timezone=True)\n",
    "    \n",
    "    \n",
    "}\n",
    "\n",
    "order_df['processed_at'].to_sql(name='order_testtz', con=engine, if_exists = 'append', index=True,dtype=order_type_dict)"
   ]
  },
  {
   "cell_type": "code",
   "execution_count": 8,
   "metadata": {},
   "outputs": [],
   "source": []
  },
  {
   "cell_type": "code",
   "execution_count": 7,
   "metadata": {},
   "outputs": [
    {
     "data": {
      "text/html": [
       "<div>\n",
       "<style scoped>\n",
       "    .dataframe tbody tr th:only-of-type {\n",
       "        vertical-align: middle;\n",
       "    }\n",
       "\n",
       "    .dataframe tbody tr th {\n",
       "        vertical-align: top;\n",
       "    }\n",
       "\n",
       "    .dataframe thead th {\n",
       "        text-align: right;\n",
       "    }\n",
       "</style>\n",
       "<table border=\"1\" class=\"dataframe\">\n",
       "  <thead>\n",
       "    <tr style=\"text-align: right;\">\n",
       "      <th></th>\n",
       "      <th>email</th>\n",
       "      <th>number</th>\n",
       "      <th>total_price</th>\n",
       "      <th>confirmed</th>\n",
       "      <th>line_item_total</th>\n",
       "      <th>processed_at</th>\n",
       "      <th>cancelled_at</th>\n",
       "    </tr>\n",
       "  </thead>\n",
       "  <tbody>\n",
       "    <tr>\n",
       "      <th>74245210115</th>\n",
       "      <td>censored@censored.com</td>\n",
       "      <td>121175</td>\n",
       "      <td>254.76</td>\n",
       "      <td>True</td>\n",
       "      <td>3</td>\n",
       "      <td>2017-12-28 17:06:17+0000</td>\n",
       "      <td>None</td>\n",
       "    </tr>\n",
       "    <tr>\n",
       "      <th>74245406723</th>\n",
       "      <td>censored@censored.com</td>\n",
       "      <td>121176</td>\n",
       "      <td>111.06</td>\n",
       "      <td>True</td>\n",
       "      <td>2</td>\n",
       "      <td>2017-12-28 17:06:46+0000</td>\n",
       "      <td>None</td>\n",
       "    </tr>\n",
       "    <tr>\n",
       "      <th>74245570563</th>\n",
       "      <td>censored@censored.com</td>\n",
       "      <td>121177</td>\n",
       "      <td>548.73</td>\n",
       "      <td>True</td>\n",
       "      <td>9</td>\n",
       "      <td>2017-12-28 17:06:57+0000</td>\n",
       "      <td>None</td>\n",
       "    </tr>\n",
       "    <tr>\n",
       "      <th>74246848515</th>\n",
       "      <td>censored@censored.com</td>\n",
       "      <td>121178</td>\n",
       "      <td>91.47</td>\n",
       "      <td>True</td>\n",
       "      <td>2</td>\n",
       "      <td>2017-12-28 17:09:31+0000</td>\n",
       "      <td>None</td>\n",
       "    </tr>\n",
       "    <tr>\n",
       "      <th>74247864323</th>\n",
       "      <td>censored@censored.com</td>\n",
       "      <td>121179</td>\n",
       "      <td>336.42</td>\n",
       "      <td>True</td>\n",
       "      <td>5</td>\n",
       "      <td>2017-12-28 17:11:24+0000</td>\n",
       "      <td>None</td>\n",
       "    </tr>\n",
       "  </tbody>\n",
       "</table>\n",
       "</div>"
      ],
      "text/plain": [
       "                             email  number total_price  confirmed  \\\n",
       "74245210115  censored@censored.com  121175      254.76       True   \n",
       "74245406723  censored@censored.com  121176      111.06       True   \n",
       "74245570563  censored@censored.com  121177      548.73       True   \n",
       "74246848515  censored@censored.com  121178       91.47       True   \n",
       "74247864323  censored@censored.com  121179      336.42       True   \n",
       "\n",
       "             line_item_total              processed_at cancelled_at  \n",
       "74245210115                3  2017-12-28 17:06:17+0000         None  \n",
       "74245406723                2  2017-12-28 17:06:46+0000         None  \n",
       "74245570563                9  2017-12-28 17:06:57+0000         None  \n",
       "74246848515                2  2017-12-28 17:09:31+0000         None  \n",
       "74247864323                5  2017-12-28 17:11:24+0000         None  "
      ]
     },
     "execution_count": 7,
     "metadata": {},
     "output_type": "execute_result"
    }
   ],
   "source": [
    "order_df.head()"
   ]
  },
  {
   "cell_type": "code",
   "execution_count": null,
   "metadata": {},
   "outputs": [],
   "source": []
  }
 ],
 "metadata": {
  "kernelspec": {
   "display_name": "Python 3",
   "language": "python",
   "name": "python3"
  },
  "language_info": {
   "codemirror_mode": {
    "name": "ipython",
    "version": 3
   },
   "file_extension": ".py",
   "mimetype": "text/x-python",
   "name": "python",
   "nbconvert_exporter": "python",
   "pygments_lexer": "ipython3",
   "version": "3.6.4"
  }
 },
 "nbformat": 4,
 "nbformat_minor": 2
}
